{
  "nbformat": 4,
  "nbformat_minor": 0,
  "metadata": {
    "colab": {
      "provenance": [],
      "authorship_tag": "ABX9TyMdyPuJX0bOdOax2YaguDRv",
      "include_colab_link": true
    },
    "kernelspec": {
      "name": "python3",
      "display_name": "Python 3"
    },
    "language_info": {
      "name": "python"
    }
  },
  "cells": [
    {
      "cell_type": "markdown",
      "metadata": {
        "id": "view-in-github",
        "colab_type": "text"
      },
      "source": [
        "<a href=\"https://colab.research.google.com/github/wafaabek/Big_data/blob/main/Spark_MLlib.ipynb\" target=\"_parent\"><img src=\"https://colab.research.google.com/assets/colab-badge.svg\" alt=\"Open In Colab\"/></a>"
      ]
    },
    {
      "cell_type": "markdown",
      "source": [
        "### 1-Stocker le contenu de tous les fichiers dans un DataFrame"
      ],
      "metadata": {
        "id": "6tBCJqKZeHlO"
      }
    },
    {
      "cell_type": "code",
      "execution_count": null,
      "metadata": {
        "colab": {
          "base_uri": "https://localhost:8080/"
        },
        "id": "Hi6yFnhLcMm9",
        "outputId": "8e471c12-b40c-47cc-b2b8-3828a6f2e208"
      },
      "outputs": [
        {
          "output_type": "stream",
          "name": "stdout",
          "text": [
            "Requirement already satisfied: pyspark in /usr/local/lib/python3.10/dist-packages (3.5.3)\n",
            "Requirement already satisfied: py4j==0.10.9.7 in /usr/local/lib/python3.10/dist-packages (from pyspark) (0.10.9.7)\n"
          ]
        }
      ],
      "source": [
        "!pip install pyspark\n",
        "from pyspark.sql import SparkSession\n",
        "\n",
        "# Créez une session Spark\n",
        "spark = SparkSession.builder.appName(\"TP4_Spark_MLlib\").getOrCreate()"
      ]
    },
    {
      "cell_type": "markdown",
      "source": [
        "# Étape 2 : Afficher le schéma du DataFrame"
      ],
      "metadata": {
        "id": "dJFbqCNRe1lB"
      }
    },
    {
      "cell_type": "code",
      "source": [
        "data_path=\"/content/data\"\n",
        "df = spark.read.option(\"header\", \"true\").csv(data_path)\n",
        "# Affichez le schéma du DataFrame\n",
        "df.printSchema()"
      ],
      "metadata": {
        "colab": {
          "base_uri": "https://localhost:8080/"
        },
        "id": "dMZLXTxqeZz1",
        "outputId": "5e4271fb-303f-4789-b8c3-e997af871a3b"
      },
      "execution_count": null,
      "outputs": [
        {
          "output_type": "stream",
          "name": "stdout",
          "text": [
            "root\n",
            " |-- InvoiceNo: string (nullable = true)\n",
            " |-- StockCode: string (nullable = true)\n",
            " |-- Description: string (nullable = true)\n",
            " |-- Quantity: string (nullable = true)\n",
            " |-- InvoiceDate: string (nullable = true)\n",
            " |-- UnitPrice: string (nullable = true)\n",
            " |-- CustomerID: string (nullable = true)\n",
            " |-- Country: string (nullable = true)\n",
            "\n"
          ]
        }
      ]
    },
    {
      "cell_type": "markdown",
      "source": [
        "# Étape 3 : Remplir les valeurs manquantes avec 0"
      ],
      "metadata": {
        "id": "GtWG_6UifMKW"
      }
    },
    {
      "cell_type": "code",
      "source": [
        "# Remplir les valeurs manquantes (NaN) par 0\n",
        "df = df.na.fill(0)\n",
        "\n",
        "# Afficher le schéma mis à jour\n",
        "df.printSchema()\n"
      ],
      "metadata": {
        "colab": {
          "base_uri": "https://localhost:8080/"
        },
        "id": "AMLQrvzufPvL",
        "outputId": "1ab861f5-aaee-4cbe-bb2e-6036c5a06813"
      },
      "execution_count": null,
      "outputs": [
        {
          "output_type": "stream",
          "name": "stdout",
          "text": [
            "root\n",
            " |-- InvoiceNo: string (nullable = true)\n",
            " |-- StockCode: string (nullable = true)\n",
            " |-- Description: string (nullable = true)\n",
            " |-- Quantity: string (nullable = true)\n",
            " |-- InvoiceDate: string (nullable = true)\n",
            " |-- UnitPrice: string (nullable = true)\n",
            " |-- CustomerID: string (nullable = true)\n",
            " |-- Country: string (nullable = true)\n",
            "\n"
          ]
        }
      ]
    },
    {
      "cell_type": "markdown",
      "source": [
        "# Étape 4 : Ajouter une colonne \"day_of_week\""
      ],
      "metadata": {
        "id": "3Culh5g0fbPe"
      }
    },
    {
      "cell_type": "code",
      "source": [
        "from pyspark.sql.functions import date_format, unix_timestamp\n",
        "\n",
        "df = df.withColumn(\"day_of_week\", date_format(unix_timestamp(df[\"InvoiceDate\"], \"yyyy-MM-dd HH:mm:ss\").cast(\"timestamp\"), \"EEEE\"))\n",
        "df.show()"
      ],
      "metadata": {
        "colab": {
          "base_uri": "https://localhost:8080/"
        },
        "id": "EjQdsUCPfctr",
        "outputId": "f2821591-ccfc-42fe-d3a8-c6ebba1caab4"
      },
      "execution_count": null,
      "outputs": [
        {
          "output_type": "stream",
          "name": "stdout",
          "text": [
            "+---------+---------+--------------------+--------+-------------------+---------+----------+--------------+-----------+\n",
            "|InvoiceNo|StockCode|         Description|Quantity|        InvoiceDate|UnitPrice|CustomerID|       Country|day_of_week|\n",
            "+---------+---------+--------------------+--------+-------------------+---------+----------+--------------+-----------+\n",
            "|   537226|    22811|SET OF 6 T-LIGHTS...|       6|2010-12-06 08:34:00|     2.95|   15987.0|United Kingdom|     Monday|\n",
            "|   537226|    21713|CITRONELLA CANDLE...|       8|2010-12-06 08:34:00|      2.1|   15987.0|United Kingdom|     Monday|\n",
            "|   537226|    22927|GREEN GIANT GARDE...|       2|2010-12-06 08:34:00|     5.95|   15987.0|United Kingdom|     Monday|\n",
            "|   537226|    20802|SMALL GLASS SUNDA...|       6|2010-12-06 08:34:00|     1.65|   15987.0|United Kingdom|     Monday|\n",
            "|   537226|    22052|VINTAGE CARAVAN G...|      25|2010-12-06 08:34:00|     0.42|   15987.0|United Kingdom|     Monday|\n",
            "|   537226|    22705|   WRAP GREEN PEARS |      25|2010-12-06 08:34:00|     0.42|   15987.0|United Kingdom|     Monday|\n",
            "|   537226|    20781|GOLD EAR MUFF HEA...|       2|2010-12-06 08:34:00|     5.49|   15987.0|United Kingdom|     Monday|\n",
            "|   537226|    22310|IVORY KNITTED MUG...|       6|2010-12-06 08:34:00|     1.65|   15987.0|United Kingdom|     Monday|\n",
            "|   537226|    22389|PAPERWEIGHT SAVE ...|       6|2010-12-06 08:34:00|     2.55|   15987.0|United Kingdom|     Monday|\n",
            "|   537227|    22941|CHRISTMAS LIGHTS ...|       2|2010-12-06 08:42:00|      8.5|   17677.0|United Kingdom|     Monday|\n",
            "|   537227|    22696| WICKER WREATH LARGE|       6|2010-12-06 08:42:00|     1.95|   17677.0|United Kingdom|     Monday|\n",
            "|   537227|    22193|RED DINER WALL CLOCK|       2|2010-12-06 08:42:00|      8.5|   17677.0|United Kingdom|     Monday|\n",
            "|   537227|    21212|PACK OF 72 RETROS...|     120|2010-12-06 08:42:00|     0.42|   17677.0|United Kingdom|     Monday|\n",
            "|   537227|    21977|PACK OF 60 PINK P...|      48|2010-12-06 08:42:00|     0.55|   17677.0|United Kingdom|     Monday|\n",
            "|   537227|    84991|60 TEATIME FAIRY ...|      48|2010-12-06 08:42:00|     0.55|   17677.0|United Kingdom|     Monday|\n",
            "|   537227|    21213|PACK OF 72 SKULL ...|      48|2010-12-06 08:42:00|     0.55|   17677.0|United Kingdom|     Monday|\n",
            "|   537227|    21080|SET/20 RED RETROS...|      12|2010-12-06 08:42:00|     0.85|   17677.0|United Kingdom|     Monday|\n",
            "|   537227|    22632|HAND WARMER RED R...|      48|2010-12-06 08:42:00|      2.1|   17677.0|United Kingdom|     Monday|\n",
            "|   537227|    22315|200 RED + WHITE B...|      12|2010-12-06 08:42:00|     1.25|   17677.0|United Kingdom|     Monday|\n",
            "|   537227|    21232|STRAWBERRY CERAMI...|      12|2010-12-06 08:42:00|     1.25|   17677.0|United Kingdom|     Monday|\n",
            "+---------+---------+--------------------+--------+-------------------+---------+----------+--------------+-----------+\n",
            "only showing top 20 rows\n",
            "\n"
          ]
        }
      ]
    },
    {
      "cell_type": "markdown",
      "source": [
        "# Étape 5 : Diviser les données en ensemble d'apprentissage et de test"
      ],
      "metadata": {
        "id": "CGNnxxnJf7CC"
      }
    },
    {
      "cell_type": "code",
      "source": [
        "from pyspark.sql.functions import col\n",
        "train_df = df.filter(col(\"InvoiceDate\") < '2010-12-13')\n",
        "test_df = df.filter(col(\"InvoiceDate\") >= '2010-12-13')\n",
        "# Afficher le nombre de lignes dans chaque ensemble\n",
        "print(\"Nombre de lignes dans l'ensemble d'apprentissage :\", train_df.count())\n",
        "print(\"Nombre de lignes dans l'ensemble de test :\", test_df.count())"
      ],
      "metadata": {
        "colab": {
          "base_uri": "https://localhost:8080/"
        },
        "id": "2cQUB1isf-yj",
        "outputId": "84dc786e-3879-4bee-8962-3f346c5e683d"
      },
      "execution_count": null,
      "outputs": [
        {
          "output_type": "stream",
          "name": "stdout",
          "text": [
            "Nombre de lignes dans l'ensemble d'apprentissage : 26732\n",
            "Nombre de lignes dans l'ensemble de test : 18676\n"
          ]
        }
      ]
    },
    {
      "cell_type": "markdown",
      "source": [
        "# Etape 6:Créer un StringIndexer pour la colonne \"day_of_week\""
      ],
      "metadata": {
        "id": "QGglDMvzwXDz"
      }
    },
    {
      "cell_type": "code",
      "source": [
        "from pyspark.ml.feature import StringIndexer\n",
        "day_of_week_indexer = StringIndexer(inputCol=\"day_of_week\", outputCol=\"day_of_week_encoded\")\n",
        "indexed_df = day_of_week_indexer.fit(df).transform(df)\n",
        "\n",
        "# Display the resulting DataFrame with the new 'day_of_week_encoded' column\n",
        "indexed_df.show()"
      ],
      "metadata": {
        "colab": {
          "base_uri": "https://localhost:8080/"
        },
        "id": "tSkCVTL9wWVR",
        "outputId": "5b4255d6-efed-4021-d5c7-09cd0265cb5d"
      },
      "execution_count": null,
      "outputs": [
        {
          "output_type": "stream",
          "name": "stdout",
          "text": [
            "+---------+---------+--------------------+--------+-------------------+---------+----------+--------------+-----------+-------------------+\n",
            "|InvoiceNo|StockCode|         Description|Quantity|        InvoiceDate|UnitPrice|CustomerID|       Country|day_of_week|day_of_week_encoded|\n",
            "+---------+---------+--------------------+--------+-------------------+---------+----------+--------------+-----------+-------------------+\n",
            "|   537226|    22811|SET OF 6 T-LIGHTS...|       6|2010-12-06 08:34:00|     2.95|   15987.0|United Kingdom|     Monday|                2.0|\n",
            "|   537226|    21713|CITRONELLA CANDLE...|       8|2010-12-06 08:34:00|      2.1|   15987.0|United Kingdom|     Monday|                2.0|\n",
            "|   537226|    22927|GREEN GIANT GARDE...|       2|2010-12-06 08:34:00|     5.95|   15987.0|United Kingdom|     Monday|                2.0|\n",
            "|   537226|    20802|SMALL GLASS SUNDA...|       6|2010-12-06 08:34:00|     1.65|   15987.0|United Kingdom|     Monday|                2.0|\n",
            "|   537226|    22052|VINTAGE CARAVAN G...|      25|2010-12-06 08:34:00|     0.42|   15987.0|United Kingdom|     Monday|                2.0|\n",
            "|   537226|    22705|   WRAP GREEN PEARS |      25|2010-12-06 08:34:00|     0.42|   15987.0|United Kingdom|     Monday|                2.0|\n",
            "|   537226|    20781|GOLD EAR MUFF HEA...|       2|2010-12-06 08:34:00|     5.49|   15987.0|United Kingdom|     Monday|                2.0|\n",
            "|   537226|    22310|IVORY KNITTED MUG...|       6|2010-12-06 08:34:00|     1.65|   15987.0|United Kingdom|     Monday|                2.0|\n",
            "|   537226|    22389|PAPERWEIGHT SAVE ...|       6|2010-12-06 08:34:00|     2.55|   15987.0|United Kingdom|     Monday|                2.0|\n",
            "|   537227|    22941|CHRISTMAS LIGHTS ...|       2|2010-12-06 08:42:00|      8.5|   17677.0|United Kingdom|     Monday|                2.0|\n",
            "|   537227|    22696| WICKER WREATH LARGE|       6|2010-12-06 08:42:00|     1.95|   17677.0|United Kingdom|     Monday|                2.0|\n",
            "|   537227|    22193|RED DINER WALL CLOCK|       2|2010-12-06 08:42:00|      8.5|   17677.0|United Kingdom|     Monday|                2.0|\n",
            "|   537227|    21212|PACK OF 72 RETROS...|     120|2010-12-06 08:42:00|     0.42|   17677.0|United Kingdom|     Monday|                2.0|\n",
            "|   537227|    21977|PACK OF 60 PINK P...|      48|2010-12-06 08:42:00|     0.55|   17677.0|United Kingdom|     Monday|                2.0|\n",
            "|   537227|    84991|60 TEATIME FAIRY ...|      48|2010-12-06 08:42:00|     0.55|   17677.0|United Kingdom|     Monday|                2.0|\n",
            "|   537227|    21213|PACK OF 72 SKULL ...|      48|2010-12-06 08:42:00|     0.55|   17677.0|United Kingdom|     Monday|                2.0|\n",
            "|   537227|    21080|SET/20 RED RETROS...|      12|2010-12-06 08:42:00|     0.85|   17677.0|United Kingdom|     Monday|                2.0|\n",
            "|   537227|    22632|HAND WARMER RED R...|      48|2010-12-06 08:42:00|      2.1|   17677.0|United Kingdom|     Monday|                2.0|\n",
            "|   537227|    22315|200 RED + WHITE B...|      12|2010-12-06 08:42:00|     1.25|   17677.0|United Kingdom|     Monday|                2.0|\n",
            "|   537227|    21232|STRAWBERRY CERAMI...|      12|2010-12-06 08:42:00|     1.25|   17677.0|United Kingdom|     Monday|                2.0|\n",
            "+---------+---------+--------------------+--------+-------------------+---------+----------+--------------+-----------+-------------------+\n",
            "only showing top 20 rows\n",
            "\n"
          ]
        }
      ]
    },
    {
      "cell_type": "markdown",
      "source": [
        "# Étape 7 : Utiliser OneHotEncoder pour éviter l'ordre implicite"
      ],
      "metadata": {
        "id": "1UR0KDO7h6Yz"
      }
    },
    {
      "cell_type": "code",
      "source": [
        "from pyspark.ml.feature import  OneHotEncoder\n",
        "encoder = OneHotEncoder(inputCol=\"day_of_week_encoded\", outputCol=\"day_of_week_onehot\")\n",
        "encoded_df = encoder.fit(indexed_df).transform(indexed_df)\n",
        "\n",
        "# Afficher le DataFrame avec la nouvelle colonne 'day_of_week_onehot'\n",
        "encoded_df.select(\"day_of_week\", \"day_of_week_encoded\", \"day_of_week_onehot\").show(truncate=False)"
      ],
      "metadata": {
        "colab": {
          "base_uri": "https://localhost:8080/"
        },
        "id": "C8znDSA2h-Zx",
        "outputId": "500bd09e-a8df-41c3-a885-f5cf73bc7468"
      },
      "execution_count": null,
      "outputs": [
        {
          "output_type": "stream",
          "name": "stdout",
          "text": [
            "+-----------+-------------------+------------------+\n",
            "|day_of_week|day_of_week_encoded|day_of_week_onehot|\n",
            "+-----------+-------------------+------------------+\n",
            "|Monday     |2.0                |(5,[2],[1.0])     |\n",
            "|Monday     |2.0                |(5,[2],[1.0])     |\n",
            "|Monday     |2.0                |(5,[2],[1.0])     |\n",
            "|Monday     |2.0                |(5,[2],[1.0])     |\n",
            "|Monday     |2.0                |(5,[2],[1.0])     |\n",
            "|Monday     |2.0                |(5,[2],[1.0])     |\n",
            "|Monday     |2.0                |(5,[2],[1.0])     |\n",
            "|Monday     |2.0                |(5,[2],[1.0])     |\n",
            "|Monday     |2.0                |(5,[2],[1.0])     |\n",
            "|Monday     |2.0                |(5,[2],[1.0])     |\n",
            "|Monday     |2.0                |(5,[2],[1.0])     |\n",
            "|Monday     |2.0                |(5,[2],[1.0])     |\n",
            "|Monday     |2.0                |(5,[2],[1.0])     |\n",
            "|Monday     |2.0                |(5,[2],[1.0])     |\n",
            "|Monday     |2.0                |(5,[2],[1.0])     |\n",
            "|Monday     |2.0                |(5,[2],[1.0])     |\n",
            "|Monday     |2.0                |(5,[2],[1.0])     |\n",
            "|Monday     |2.0                |(5,[2],[1.0])     |\n",
            "|Monday     |2.0                |(5,[2],[1.0])     |\n",
            "|Monday     |2.0                |(5,[2],[1.0])     |\n",
            "+-----------+-------------------+------------------+\n",
            "only showing top 20 rows\n",
            "\n"
          ]
        }
      ]
    },
    {
      "cell_type": "markdown",
      "source": [
        "# Étape 8 : Créer un VectorAssembler avec UnitPrice, Quantity et day_of_week_encoded"
      ],
      "metadata": {
        "id": "nrRZnjR5kNLv"
      }
    },
    {
      "cell_type": "code",
      "source": [
        "from pyspark.sql.types import DoubleType\n",
        "from pyspark.sql.functions import col\n",
        "\n",
        "# Convertir les colonnes en type Double\n",
        "encoded_df = encoded_df.withColumn(\"UnitPrice\", col(\"UnitPrice\").cast(DoubleType()))\n",
        "encoded_df = encoded_df.withColumn(\"Quantity\", col(\"Quantity\").cast(DoubleType()))\n",
        "\n",
        "\n",
        "# Assembler les colonnes\n",
        "from pyspark.ml.feature import VectorAssembler\n",
        "assembler = VectorAssembler(inputCols=[\"UnitPrice\", \"Quantity\", \"day_of_week_onehot\"], outputCol=\"features\")\n",
        "\n",
        "# Appliquer l'assembler\n",
        "assembled_df = assembler.transform(encoded_df)\n",
        "\n",
        "# Afficher les colonnes pour vérifier\n",
        "assembled_df.select(\"UnitPrice\", \"Quantity\", \"day_of_week_onehot\", \"features\").show(5)\n"
      ],
      "metadata": {
        "colab": {
          "base_uri": "https://localhost:8080/"
        },
        "id": "sTmRnMK8kWDR",
        "outputId": "5dcc1b01-7312-4939-ec9f-edaed2f70958"
      },
      "execution_count": null,
      "outputs": [
        {
          "output_type": "stream",
          "name": "stdout",
          "text": [
            "+---------+--------+------------------+--------------------+\n",
            "|UnitPrice|Quantity|day_of_week_onehot|            features|\n",
            "+---------+--------+------------------+--------------------+\n",
            "|     2.95|     6.0|     (5,[2],[1.0])|(7,[0,1,4],[2.95,...|\n",
            "|      2.1|     8.0|     (5,[2],[1.0])|(7,[0,1,4],[2.1,8...|\n",
            "|     5.95|     2.0|     (5,[2],[1.0])|(7,[0,1,4],[5.95,...|\n",
            "|     1.65|     6.0|     (5,[2],[1.0])|(7,[0,1,4],[1.65,...|\n",
            "|     0.42|    25.0|     (5,[2],[1.0])|(7,[0,1,4],[0.42,...|\n",
            "+---------+--------+------------------+--------------------+\n",
            "only showing top 5 rows\n",
            "\n"
          ]
        }
      ]
    },
    {
      "cell_type": "markdown",
      "source": [
        "# Étape 9 : Créer un pipeline"
      ],
      "metadata": {
        "id": "kUzoi4FKkgLS"
      }
    },
    {
      "cell_type": "code",
      "source": [
        "from pyspark.ml import Pipeline\n",
        "\n",
        "pipeline = Pipeline(stages=[day_of_week_indexer, encoder, assembler])\n"
      ],
      "metadata": {
        "id": "Ul3_eVvekh3z"
      },
      "execution_count": null,
      "outputs": []
    },
    {
      "cell_type": "markdown",
      "source": [
        "# Etape 11:Transformer les données de l’ensemble d’apprentissage en se basant sur les étapes\n",
        "## (stages) du pipeline."
      ],
      "metadata": {
        "id": "EBAstnnPBkZv"
      }
    },
    {
      "cell_type": "code",
      "source": [
        "from pyspark.ml.feature import StringIndexer\n",
        "from pyspark.ml import Pipeline\n",
        "\n",
        "# Assuming 'day_of_week' is a column in your DataFrame\n",
        "string_indexer = StringIndexer(inputCol=\"day_of_week\", outputCol=\"day_of_week_indexed\")\n",
        "\n",
        "# Create a pipeline with the stages\n",
        "pipeline = Pipeline(stages=[string_indexer])\n",
        "\n",
        "# Fit the pipeline to the training data\n",
        "fittedPipeline = pipeline.fit(train_df)"
      ],
      "metadata": {
        "id": "iXRVVjfylLva"
      },
      "execution_count": null,
      "outputs": []
    },
    {
      "cell_type": "code",
      "source": [
        "pipeline_model = pipeline.fit(train_df)\n",
        "train_transformed = pipeline_model.transform(train_df)\n"
      ],
      "metadata": {
        "id": "pRWg_xPhBj31"
      },
      "execution_count": null,
      "outputs": []
    },
    {
      "cell_type": "markdown",
      "source": [
        "# Étape 12 : Créer une instance de KMeans"
      ],
      "metadata": {
        "id": "uKjGj-HqGSP2"
      }
    },
    {
      "cell_type": "code",
      "source": [
        "from pyspark.ml.clustering import KMeans\n",
        "\n",
        "kmeans = KMeans(k=20, featuresCol=\"features\", predictionCol=\"prediction\")\n"
      ],
      "metadata": {
        "id": "_CQVe1mfGVVD"
      },
      "execution_count": null,
      "outputs": []
    },
    {
      "cell_type": "markdown",
      "source": [
        "# Étape 13 : Lancer l’apprentissage de KMeans"
      ],
      "metadata": {
        "id": "0pjqmpFSGlA5"
      }
    },
    {
      "cell_type": "code",
      "source": [
        "from pyspark.sql.functions import col\n",
        "from pyspark.sql.types import DoubleType\n",
        "\n",
        "# Assuming 'transformedTraining' contains your data\n",
        "train_transformed = train_transformed.withColumn(\"Quantity\", col(\"Quantity\").cast(DoubleType()))\n",
        "train_transformed= train_transformed.withColumn(\"UnitPrice\", col(\"UnitPrice\").cast(DoubleType()))"
      ],
      "metadata": {
        "id": "xebxBmhXm7QT"
      },
      "execution_count": null,
      "outputs": []
    },
    {
      "cell_type": "code",
      "source": [
        "from pyspark.ml.feature import VectorAssembler\n",
        "\n",
        "# Assuming 'transformedTraining' contains your data\n",
        "feature_columns = ['Quantity', 'UnitPrice']  # Add other columns as needed\n",
        "\n",
        "# Create a vector assembler\n",
        "vector_assembler = VectorAssembler(inputCols=feature_columns, outputCol=\"features\")\n",
        "\n",
        "# Transform the data using the vector assembler\n",
        "cluster_input_data = vector_assembler.transform(train_transformed)\n",
        "\n",
        "# Fit the KMeans model to the assembled features\n",
        "model = kmeans.fit(cluster_input_data)\n",
        "\n",
        "# Get the clustering result\n",
        "clusteredData = model.transform(cluster_input_data)\n",
        "\n",
        "# Show the result\n",
        "clusteredData.show()"
      ],
      "metadata": {
        "colab": {
          "base_uri": "https://localhost:8080/"
        },
        "id": "PUU_rTvHfTiC",
        "outputId": "497191d8-a353-4c14-d1a8-daba91174a56"
      },
      "execution_count": null,
      "outputs": [
        {
          "output_type": "stream",
          "name": "stdout",
          "text": [
            "+---------+---------+--------------------+--------+-------------------+---------+----------+--------------+-----------+-------------------+------------+----------+\n",
            "|InvoiceNo|StockCode|         Description|Quantity|        InvoiceDate|UnitPrice|CustomerID|       Country|day_of_week|day_of_week_indexed|    features|prediction|\n",
            "+---------+---------+--------------------+--------+-------------------+---------+----------+--------------+-----------+-------------------+------------+----------+\n",
            "|   537226|    22811|SET OF 6 T-LIGHTS...|     6.0|2010-12-06 08:34:00|     2.95|   15987.0|United Kingdom|     Monday|                4.0|  [6.0,2.95]|         0|\n",
            "|   537226|    21713|CITRONELLA CANDLE...|     8.0|2010-12-06 08:34:00|      2.1|   15987.0|United Kingdom|     Monday|                4.0|   [8.0,2.1]|         0|\n",
            "|   537226|    22927|GREEN GIANT GARDE...|     2.0|2010-12-06 08:34:00|     5.95|   15987.0|United Kingdom|     Monday|                4.0|  [2.0,5.95]|         0|\n",
            "|   537226|    20802|SMALL GLASS SUNDA...|     6.0|2010-12-06 08:34:00|     1.65|   15987.0|United Kingdom|     Monday|                4.0|  [6.0,1.65]|         0|\n",
            "|   537226|    22052|VINTAGE CARAVAN G...|    25.0|2010-12-06 08:34:00|     0.42|   15987.0|United Kingdom|     Monday|                4.0| [25.0,0.42]|         5|\n",
            "|   537226|    22705|   WRAP GREEN PEARS |    25.0|2010-12-06 08:34:00|     0.42|   15987.0|United Kingdom|     Monday|                4.0| [25.0,0.42]|         5|\n",
            "|   537226|    20781|GOLD EAR MUFF HEA...|     2.0|2010-12-06 08:34:00|     5.49|   15987.0|United Kingdom|     Monday|                4.0|  [2.0,5.49]|         0|\n",
            "|   537226|    22310|IVORY KNITTED MUG...|     6.0|2010-12-06 08:34:00|     1.65|   15987.0|United Kingdom|     Monday|                4.0|  [6.0,1.65]|         0|\n",
            "|   537226|    22389|PAPERWEIGHT SAVE ...|     6.0|2010-12-06 08:34:00|     2.55|   15987.0|United Kingdom|     Monday|                4.0|  [6.0,2.55]|         0|\n",
            "|   537227|    22941|CHRISTMAS LIGHTS ...|     2.0|2010-12-06 08:42:00|      8.5|   17677.0|United Kingdom|     Monday|                4.0|   [2.0,8.5]|         0|\n",
            "|   537227|    22696| WICKER WREATH LARGE|     6.0|2010-12-06 08:42:00|     1.95|   17677.0|United Kingdom|     Monday|                4.0|  [6.0,1.95]|         0|\n",
            "|   537227|    22193|RED DINER WALL CLOCK|     2.0|2010-12-06 08:42:00|      8.5|   17677.0|United Kingdom|     Monday|                4.0|   [2.0,8.5]|         0|\n",
            "|   537227|    21212|PACK OF 72 RETROS...|   120.0|2010-12-06 08:42:00|     0.42|   17677.0|United Kingdom|     Monday|                4.0|[120.0,0.42]|        14|\n",
            "|   537227|    21977|PACK OF 60 PINK P...|    48.0|2010-12-06 08:42:00|     0.55|   17677.0|United Kingdom|     Monday|                4.0| [48.0,0.55]|        18|\n",
            "|   537227|    84991|60 TEATIME FAIRY ...|    48.0|2010-12-06 08:42:00|     0.55|   17677.0|United Kingdom|     Monday|                4.0| [48.0,0.55]|        18|\n",
            "|   537227|    21213|PACK OF 72 SKULL ...|    48.0|2010-12-06 08:42:00|     0.55|   17677.0|United Kingdom|     Monday|                4.0| [48.0,0.55]|        18|\n",
            "|   537227|    21080|SET/20 RED RETROS...|    12.0|2010-12-06 08:42:00|     0.85|   17677.0|United Kingdom|     Monday|                4.0| [12.0,0.85]|         5|\n",
            "|   537227|    22632|HAND WARMER RED R...|    48.0|2010-12-06 08:42:00|      2.1|   17677.0|United Kingdom|     Monday|                4.0|  [48.0,2.1]|        18|\n",
            "|   537227|    22315|200 RED + WHITE B...|    12.0|2010-12-06 08:42:00|     1.25|   17677.0|United Kingdom|     Monday|                4.0| [12.0,1.25]|         5|\n",
            "|   537227|    21232|STRAWBERRY CERAMI...|    12.0|2010-12-06 08:42:00|     1.25|   17677.0|United Kingdom|     Monday|                4.0| [12.0,1.25]|         5|\n",
            "+---------+---------+--------------------+--------+-------------------+---------+----------+--------------+-----------+-------------------+------------+----------+\n",
            "only showing top 20 rows\n",
            "\n"
          ]
        }
      ]
    },
    {
      "cell_type": "markdown",
      "source": [
        "# 14. Effectuer des prédictions sur l’ensemble de test"
      ],
      "metadata": {
        "id": "N-wMxfVXoWBW"
      }
    },
    {
      "cell_type": "code",
      "source": [
        " #Assuming 'test_data' is your test set\n",
        "\n",
        "# Transform the test data using the same VectorAssembler\n",
        "test_df = test_df.withColumn(\"Quantity\", col(\"Quantity\").cast(DoubleType()))\n",
        "test_df = test_df.withColumn(\"UnitPrice\", col(\"UnitPrice\").cast(DoubleType()))\n",
        "test_cluster_input_data = vector_assembler.transform(test_df)\n",
        "\n",
        "# Use the trained KMeans model to make predictions on the test data\n",
        "test_clusteredData = model.transform(test_cluster_input_data)\n",
        "\n",
        "# Show the result\n",
        "test_clusteredData.show()"
      ],
      "metadata": {
        "colab": {
          "base_uri": "https://localhost:8080/"
        },
        "id": "F1Fy81apoDrt",
        "outputId": "49086d92-bf99-46c3-c3ce-ff8989ec8ada"
      },
      "execution_count": null,
      "outputs": [
        {
          "output_type": "stream",
          "name": "stdout",
          "text": [
            "+---------+---------+--------------------+--------+-------------------+---------+----------+--------------+-----------+-----------+----------+\n",
            "|InvoiceNo|StockCode|         Description|Quantity|        InvoiceDate|UnitPrice|CustomerID|       Country|day_of_week|   features|prediction|\n",
            "+---------+---------+--------------------+--------+-------------------+---------+----------+--------------+-----------+-----------+----------+\n",
            "|   539325|    22720|SET OF 3 CAKE TIN...|     3.0|2010-12-17 08:20:00|     4.95|   13004.0|United Kingdom|     Friday| [3.0,4.95]|         0|\n",
            "|   539325|    22722|SET OF 6 SPICE TI...|     4.0|2010-12-17 08:20:00|     3.95|   13004.0|United Kingdom|     Friday| [4.0,3.95]|         0|\n",
            "|   539325|    22915|ASSORTED BOTTLE T...|    12.0|2010-12-17 08:20:00|     0.42|   13004.0|United Kingdom|     Friday|[12.0,0.42]|         5|\n",
            "|   539325|    22922|FRIDGE MAGNETS US...|    12.0|2010-12-17 08:20:00|     0.85|   13004.0|United Kingdom|     Friday|[12.0,0.85]|         5|\n",
            "|   539325|    22923|FRIDGE MAGNETS LE...|    12.0|2010-12-17 08:20:00|     0.85|   13004.0|United Kingdom|     Friday|[12.0,0.85]|         5|\n",
            "|   539325|   47504K|ENGLISH ROSE GARD...|    24.0|2010-12-17 08:20:00|     0.85|   13004.0|United Kingdom|     Friday|[24.0,0.85]|         5|\n",
            "|   539325|    84823|DANISH ROSE FOLDI...|     2.0|2010-12-17 08:20:00|     7.95|   13004.0|United Kingdom|     Friday| [2.0,7.95]|         0|\n",
            "|   539325|    85212|MINI PAINTED GARD...|    72.0|2010-12-17 08:20:00|     0.21|   13004.0|United Kingdom|     Friday|[72.0,0.21]|        14|\n",
            "|   539325|    22771|CLEAR DRAWER KNOB...|    12.0|2010-12-17 08:20:00|     1.25|   13004.0|United Kingdom|     Friday|[12.0,1.25]|         5|\n",
            "|   539325|    22773|GREEN DRAWER KNOB...|    12.0|2010-12-17 08:20:00|     1.25|   13004.0|United Kingdom|     Friday|[12.0,1.25]|         5|\n",
            "|   539325|    21671|RED SPOT CERAMIC ...|    12.0|2010-12-17 08:20:00|     1.25|   13004.0|United Kingdom|     Friday|[12.0,1.25]|         5|\n",
            "|   539325|    22620|4 TRADITIONAL SPI...|    12.0|2010-12-17 08:20:00|     1.25|   13004.0|United Kingdom|     Friday|[12.0,1.25]|         5|\n",
            "|   539325|    22645|CERAMIC HEART FAI...|    12.0|2010-12-17 08:20:00|     1.45|   13004.0|United Kingdom|     Friday|[12.0,1.45]|         5|\n",
            "|   539325|    22367|CHILDRENS APRON S...|     8.0|2010-12-17 08:20:00|     1.95|   13004.0|United Kingdom|     Friday| [8.0,1.95]|         0|\n",
            "|   539325|    22061|LARGE CAKE STAND ...|     2.0|2010-12-17 08:20:00|     9.95|   13004.0|United Kingdom|     Friday| [2.0,9.95]|         0|\n",
            "|   539325|    37449|CERAMIC CAKE STAN...|     2.0|2010-12-17 08:20:00|     9.95|   13004.0|United Kingdom|     Friday| [2.0,9.95]|         0|\n",
            "|   539325|    37446|MINI CAKE STAND W...|     8.0|2010-12-17 08:20:00|     1.45|   13004.0|United Kingdom|     Friday| [8.0,1.45]|         0|\n",
            "|   539325|    82483|WOOD 2 DRAWER CAB...|     4.0|2010-12-17 08:20:00|     5.95|   13004.0|United Kingdom|     Friday| [4.0,5.95]|         0|\n",
            "|   539325|    82486|WOOD S/3 CABINET ...|     2.0|2010-12-17 08:20:00|     7.95|   13004.0|United Kingdom|     Friday| [2.0,7.95]|         0|\n",
            "|   539325|   85123A|WHITE HANGING HEA...|     6.0|2010-12-17 08:20:00|     2.95|   13004.0|United Kingdom|     Friday| [6.0,2.95]|         0|\n",
            "+---------+---------+--------------------+--------+-------------------+---------+----------+--------------+-----------+-----------+----------+\n",
            "only showing top 20 rows\n",
            "\n"
          ]
        }
      ]
    },
    {
      "cell_type": "markdown",
      "source": [
        "# 15. Calculer le coefficient de silhouette"
      ],
      "metadata": {
        "id": "bXb00LZXo_Ws"
      }
    },
    {
      "cell_type": "code",
      "source": [
        "from pyspark.ml.evaluation import ClusteringEvaluator\n",
        "\n",
        "# Assuming 'test_clusteredData' contains the test set with cluster assignments\n",
        "# 'prediction' column should contain the cluster assignments\n",
        "\n",
        "# Evaluate clustering by computing Silhouette score\n",
        "evaluator = ClusteringEvaluator()\n",
        "\n",
        "silhouette_score = evaluator.evaluate(test_clusteredData)\n",
        "print(f\"Silhouette Score: {silhouette_score}\")"
      ],
      "metadata": {
        "colab": {
          "base_uri": "https://localhost:8080/"
        },
        "id": "p0MtBKZSpEa1",
        "outputId": "c318ace1-d960-4145-f8c6-490fbd06094c"
      },
      "execution_count": null,
      "outputs": [
        {
          "output_type": "stream",
          "name": "stdout",
          "text": [
            "Silhouette Score: 0.7478770959778697\n"
          ]
        }
      ]
    }
  ]
}