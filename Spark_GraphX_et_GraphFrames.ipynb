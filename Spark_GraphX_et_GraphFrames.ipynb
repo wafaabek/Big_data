{
  "nbformat": 4,
  "nbformat_minor": 0,
  "metadata": {
    "colab": {
      "provenance": [],
      "authorship_tag": "ABX9TyOujjMk6syI8bofzz7jiipC",
      "include_colab_link": true
    },
    "kernelspec": {
      "name": "python3",
      "display_name": "Python 3"
    },
    "language_info": {
      "name": "python"
    }
  },
  "cells": [
    {
      "cell_type": "markdown",
      "metadata": {
        "id": "view-in-github",
        "colab_type": "text"
      },
      "source": [
        "<a href=\"https://colab.research.google.com/github/wafaabek/Big_data/blob/main/Spark_GraphX_et_GraphFrames.ipynb\" target=\"_parent\"><img src=\"https://colab.research.google.com/assets/colab-badge.svg\" alt=\"Open In Colab\"/></a>"
      ]
    },
    {
      "cell_type": "markdown",
      "source": [
        "# 1. Chargement des fichiers en DataFrames\n",
        "# Tout d'abord, chargeons les deux fichiers station_data.csv et trip_data.csv en DataFrames."
      ],
      "metadata": {
        "id": "VuSV-8akaGfE"
      }
    },
    {
      "cell_type": "code",
      "execution_count": 1,
      "metadata": {
        "id": "ABvs1_G-ZgX1"
      },
      "outputs": [],
      "source": [
        "from pyspark.sql import SparkSession\n",
        "\n",
        "# Créer une session Spark\n",
        "spark = SparkSession.builder \\\n",
        "    .appName(\"TP5 Spark GraphX et GraphFrames\") \\\n",
        "    .config(\"spark.jars.packages\", \"graphframes:graphframes:0.8.1-spark3.0-s_2.12\") \\\n",
        "    .getOrCreate()\n",
        "\n",
        "# Charger les fichiers CSV en DataFrames\n",
        "station_data_df = spark.read.csv(\"/content/sample_data/station_data.csv\", header=True, inferSchema=True)\n",
        "trip_data_df = spark.read.csv(\"/content/sample_data/trip_data.csv\", header=True, inferSchema=True)\n"
      ]
    },
    {
      "cell_type": "markdown",
      "source": [],
      "metadata": {
        "id": "oLYfR2c5aCSZ"
      }
    },
    {
      "cell_type": "markdown",
      "source": [
        "# 2. Renommer les colonnes pour les sommets et les arcs\n",
        "# Suivez les conventions de GraphFrames pour renommer les colonnes de façon appropriée."
      ],
      "metadata": {
        "id": "rv6JeHJJafYP"
      }
    },
    {
      "cell_type": "code",
      "source": [
        "# Renommer la colonne 'name' en 'id' dans station_data_df\n",
        "station_vertices = station_data_df.withColumnRenamed(\"name\", \"id\")\n",
        "\n",
        "# Renommer les colonnes 'Start Station' en 'src' et 'End Station' en 'dst' dans trip_data_df\n",
        "trip_edges = trip_data_df.withColumnRenamed(\"Start Station\", \"src\") \\\n",
        "                         .withColumnRenamed(\"End Station\", \"dst\")\n"
      ],
      "metadata": {
        "id": "j3bZRbDVakct"
      },
      "execution_count": 3,
      "outputs": []
    },
    {
      "cell_type": "markdown",
      "source": [
        "# 3. Créer un GraphFrame\n",
        "# Utilisez le DataFrame des sommets (station_vertices) et des arcs (trip_edges) pour construire un graphe."
      ],
      "metadata": {
        "id": "ONglriAgarDJ"
      }
    },
    {
      "cell_type": "code",
      "source": [
        "import warnings\n",
        "warnings.filterwarnings(\"ignore\", category=UserWarning, module=\"pyspark.sql.dataframe\")\n",
        "\n",
        "from graphframes import GraphFrame\n",
        "\n",
        "# Renommer la colonne 'name' en 'id' pour les sommets (stations)\n",
        "station_vertices = station_data_df.withColumnRenamed(\"name\", \"id\")\n",
        "\n",
        "# Créer le GraphFrame\n",
        "graph = GraphFrame(station_vertices, trip_edges)\n",
        "\n"
      ],
      "metadata": {
        "id": "Z5GMvSI8awms"
      },
      "execution_count": 4,
      "outputs": []
    },
    {
      "cell_type": "markdown",
      "source": [
        "# Interroger le graphe"
      ],
      "metadata": {
        "id": "haJhWudacIQI"
      }
    },
    {
      "cell_type": "markdown",
      "source": [
        "5. Nombre de voyages entre chaque source et destination, triés par ordre décroissant"
      ],
      "metadata": {
        "id": "Y8JzTfmQcQVG"
      }
    },
    {
      "cell_type": "code",
      "source": [
        "from pyspark.sql.functions import col\n",
        "\n",
        "# Compter le nombre de trajets entre chaque source et destination\n",
        "trip_counts = graph.edges.groupBy(\"src\", \"dst\").count().orderBy(col(\"count\").desc())\n",
        "\n",
        "# Afficher les résultats\n",
        "trip_counts.show()"
      ],
      "metadata": {
        "colab": {
          "base_uri": "https://localhost:8080/"
        },
        "id": "KyrjcTrucTtq",
        "outputId": "c6252842-0d9b-4193-d993-96ef4a5d7b8e"
      },
      "execution_count": 15,
      "outputs": [
        {
          "output_type": "stream",
          "name": "stdout",
          "text": [
            "+--------------------+--------------------+-----+\n",
            "|                 src|                 dst|count|\n",
            "+--------------------+--------------------+-----+\n",
            "|San Francisco Cal...|     Townsend at 7th|    4|\n",
            "|       5th at Howard|San Francisco Cal...|    3|\n",
            "|San Francisco Cal...|  Powell Street BART|    2|\n",
            "|     2nd at Townsend|   Market at Sansome|    2|\n",
            "|     Spear at Folsom|     2nd at Townsend|    2|\n",
            "|   Market at Sansome|Broadway St at Ba...|    2|\n",
            "|    Davis at Jackson|Embarcadero at Sa...|    2|\n",
            "|San Francisco Cal...|   2nd at South Park|    2|\n",
            "|   Steuart at Market|San Francisco Cal...|    2|\n",
            "|       Market at 4th|San Francisco Cal...|    2|\n",
            "|Embarcadero at Fo...|Embarcadero at Sa...|    2|\n",
            "|Mountain View Cal...|Rengstorff Avenue...|    1|\n",
            "|    Davis at Jackson|Temporary Transba...|    1|\n",
            "|       5th at Howard|     Townsend at 7th|    1|\n",
            "|   Market at Sansome|South Van Ness at...|    1|\n",
            "|     Beale at Market|Temporary Transba...|    1|\n",
            "|     2nd at Townsend|Powell at Post (U...|    1|\n",
            "|   Market at Sansome|     Clay at Battery|    1|\n",
            "|   2nd at South Park|       Howard at 2nd|    1|\n",
            "|Embarcadero at Sa...|   Steuart at Market|    1|\n",
            "+--------------------+--------------------+-----+\n",
            "only showing top 20 rows\n",
            "\n"
          ]
        }
      ]
    },
    {
      "cell_type": "markdown",
      "source": [
        "6. Nombre de voyages se terminant ou commençant à ‘Townsend at 7th’"
      ],
      "metadata": {
        "id": "USgkBtU4cY30"
      }
    },
    {
      "cell_type": "code",
      "source": [
        "from pyspark.sql.functions import col\n",
        "\n",
        "# Filtrer les trajets qui commencent ou se terminent à \"Townsend at 7th\"\n",
        "townsend_trips = graph.edges.filter((col(\"src\") == \"Townsend at 7th\") | (col(\"dst\") == \"Townsend at 7th\"))\n",
        "\n",
        "# Compter le nombre de trajets\n",
        "townsend_trip_count = townsend_trips.count()\n",
        "\n",
        "# Afficher le nombre de trajets\n",
        "print(f\"Nombre de trajets qui commencent ou se terminent à 'Townsend at 7th' : {townsend_trip_count}\")\n",
        "\n"
      ],
      "metadata": {
        "colab": {
          "base_uri": "https://localhost:8080/"
        },
        "id": "npZ_dkjWcYHr",
        "outputId": "7470da60-3273-4aae-ef07-5de5b5f73e0d"
      },
      "execution_count": 18,
      "outputs": [
        {
          "output_type": "stream",
          "name": "stdout",
          "text": [
            "Nombre de trajets qui commencent ou se terminent à 'Townsend at 7th' : 9\n"
          ]
        }
      ]
    },
    {
      "cell_type": "markdown",
      "source": [
        "7. Sommets n'étant jamais une destination d'un voyage qui commence à 'Spear at Folsom'"
      ],
      "metadata": {
        "id": "n8UGqI-Pckcd"
      }
    },
    {
      "cell_type": "code",
      "source": [
        "# Trouver les sommets qui n'ont jamais été destination d'un voyage partant de \"Spear at Folsom\"\n",
        "spears_trips = graph.edges.filter(col(\"src\") == \"Spear at Folsom\")\n",
        "not_destinations = spears_trips.select(\"dst\")\n",
        "\n",
        "# Récupérer les sommets qui ne sont pas dans la liste des destinations\n",
        "non_destination_vertices = graph.vertices.join(not_destinations, graph.vertices.id == not_destinations.dst, \"left_anti\")\n",
        "\n",
        "# Afficher les résultats\n",
        "non_destination_vertices.show()\n"
      ],
      "metadata": {
        "colab": {
          "base_uri": "https://localhost:8080/"
        },
        "id": "nM6LaIrvcnyF",
        "outputId": "0cd167b8-4ebb-44d4-c67b-1ae4415a596f"
      },
      "execution_count": 19,
      "outputs": [
        {
          "output_type": "stream",
          "name": "stdout",
          "text": [
            "+----------+--------------------+---------+-----------+---------+------------+------------+\n",
            "|station_id|                  id|      lat|       long|dockcount|    landmark|installation|\n",
            "+----------+--------------------+---------+-----------+---------+------------+------------+\n",
            "|         2|San Jose Diridon ...|37.329732|-121.901782|       27|    San Jose|    8/6/2013|\n",
            "|         3|San Jose Civic Ce...|37.330698|-121.888979|       15|    San Jose|    8/5/2013|\n",
            "|         4|Santa Clara at Al...|37.333988|-121.894902|       11|    San Jose|    8/6/2013|\n",
            "|         5|    Adobe on Almaden|37.331415|  -121.8932|       19|    San Jose|    8/5/2013|\n",
            "|         6|    San Pedro Square|37.336721|-121.894074|       15|    San Jose|    8/7/2013|\n",
            "|         7|Paseo de San Antonio|37.333798|-121.886943|       15|    San Jose|    8/7/2013|\n",
            "|         8| San Salvador at 1st|37.330165|-121.885831|       15|    San Jose|    8/5/2013|\n",
            "|         9|           Japantown|37.348742|-121.894715|       15|    San Jose|    8/5/2013|\n",
            "|        10|  San Jose City Hall|37.337391|-121.886995|       15|    San Jose|    8/6/2013|\n",
            "|        11|         MLK Library|37.335885| -121.88566|       19|    San Jose|    8/6/2013|\n",
            "|        12|SJSU 4th at San C...|37.332808|-121.883891|       19|    San Jose|    8/7/2013|\n",
            "|        13|       St James Park|37.339301|-121.889937|       15|    San Jose|    8/6/2013|\n",
            "|        14|Arena Green / SAP...|37.332692|-121.900084|       19|    San Jose|    8/5/2013|\n",
            "|        16|SJSU - San Salvad...|37.333955|-121.877349|       15|    San Jose|    8/7/2013|\n",
            "|        21|   Franklin at Maple|37.481758|-122.226904|       15|Redwood City|   8/12/2013|\n",
            "|        22|Redwood City Calt...|37.486078|-122.232089|       25|Redwood City|   8/15/2013|\n",
            "|        23|San Mateo County ...|37.487616|-122.229951|       15|Redwood City|   8/15/2013|\n",
            "|        24|Redwood City Publ...|37.484219|-122.227424|       15|Redwood City|   8/12/2013|\n",
            "|        25|Stanford in Redwo...| 37.48537|-122.203288|       15|Redwood City|   8/12/2013|\n",
            "|        26|Redwood City Medi...|37.487682|-122.223492|       15|Redwood City|   8/12/2013|\n",
            "+----------+--------------------+---------+-----------+---------+------------+------------+\n",
            "only showing top 20 rows\n",
            "\n"
          ]
        }
      ]
    },
    {
      "cell_type": "markdown",
      "source": [],
      "metadata": {
        "id": "FtB6QWOdbmDI"
      }
    },
    {
      "cell_type": "markdown",
      "source": [],
      "metadata": {
        "id": "j0DjNCbdbLyY"
      }
    },
    {
      "cell_type": "markdown",
      "source": [
        "8. Station avec le nombre maximum de voyages entrants"
      ],
      "metadata": {
        "id": "mvq17e4JdONQ"
      }
    },
    {
      "cell_type": "code",
      "source": [
        "# Compter les trajets entrants pour chaque station\n",
        "incoming_trips = graph.edges.groupBy(\"dst\").count()\n",
        "\n",
        "# Trouver la station avec le plus grand nombre de trajets entrants\n",
        "max_incoming_station = incoming_trips.orderBy(col(\"count\").desc()).limit(1)\n",
        "\n",
        "# Afficher la station avec le nombre maximum de trajets entrants\n",
        "max_incoming_station.show()\n"
      ],
      "metadata": {
        "colab": {
          "base_uri": "https://localhost:8080/"
        },
        "id": "8NIBvVsOdRvW",
        "outputId": "b1625df6-59d7-4489-f75b-a292694d8b70"
      },
      "execution_count": 20,
      "outputs": [
        {
          "output_type": "stream",
          "name": "stdout",
          "text": [
            "+--------------------+-----+\n",
            "|                 dst|count|\n",
            "+--------------------+-----+\n",
            "|San Francisco Cal...|    9|\n",
            "+--------------------+-----+\n",
            "\n"
          ]
        }
      ]
    },
    {
      "cell_type": "markdown",
      "source": [
        "9. Voyage avec la plus grande durée"
      ],
      "metadata": {
        "id": "IJtWAx70dVLB"
      }
    },
    {
      "cell_type": "code",
      "source": [
        "from pyspark.sql.functions import max\n",
        "\n",
        "# Calculer la durée maximale\n",
        "max_duration = trip_edges.agg(max(\"Duration\")).collect()[0][0]\n",
        "\n",
        "# Filtrer pour obtenir le(s) trajet(s) ayant cette durée maximale\n",
        "longest_trip = trip_edges.filter(trip_edges.Duration == max_duration)\n",
        "longest_trip.show()\n",
        "\n",
        "\n",
        "\n"
      ],
      "metadata": {
        "colab": {
          "base_uri": "https://localhost:8080/"
        },
        "id": "7XFEsd08dYWy",
        "outputId": "48df21d7-a3da-4ed2-bc2d-150d7cbe4520"
      },
      "execution_count": 13,
      "outputs": [
        {
          "output_type": "stream",
          "name": "stdout",
          "text": [
            "+-------+--------+---------------+--------------------+--------------+---------------+--------------------+------------+------+---------------+--------+\n",
            "|Trip ID|Duration|     Start Date|                 src|Start Terminal|       End Date|                 dst|End Terminal|Bike #|Subscriber Type|Zip Code|\n",
            "+-------+--------+---------------+--------------------+--------------+---------------+--------------------+------------+------+---------------+--------+\n",
            "| 913386|    1808|8/31/2015 20:23|Embarcadero at Br...|            54|8/31/2015 20:53|Harry Bridges Pla...|          50|   524|     Subscriber|   94105|\n",
            "+-------+--------+---------------+--------------------+--------------+---------------+--------------------+------------+------+---------------+--------+\n",
            "\n"
          ]
        }
      ]
    },
    {
      "cell_type": "code",
      "source": [
        "from google.colab import drive\n",
        "drive.mount('/content/drive')"
      ],
      "metadata": {
        "id": "qCvg3egOv_nL"
      },
      "execution_count": null,
      "outputs": []
    },
    {
      "cell_type": "markdown",
      "source": [
        "10. Créer un sous-graphe pour les voyages se terminant ou commençant à ‘Townsend at 7th’"
      ],
      "metadata": {
        "id": "hFpxJNQQdt1U"
      }
    },
    {
      "cell_type": "code",
      "source": [
        "# Créer un sous-graphe pour les voyages qui commencent ou se terminent à 'Townsend at 7th'\n",
        "subgraph = GraphFrame(\n",
        "    station_vertices,\n",
        "    graph.edges.filter((graph.edges.src == 'Townsend at 7th') | (graph.edges.dst == 'Townsend at 7th'))\n",
        ")\n"
      ],
      "metadata": {
        "id": "nFY6BJgedw-T"
      },
      "execution_count": 12,
      "outputs": []
    },
    {
      "cell_type": "markdown",
      "source": [
        "11. Recherche de motifs : chemins en \"triangle\" entre trois stations"
      ],
      "metadata": {
        "id": "uKMLO1eld0Hg"
      }
    },
    {
      "cell_type": "code",
      "source": [
        "# Rechercher les triangles dans le graphe\n",
        "triangles = graph.find(\"(a)-[ab]->(b); (b)-[bc]->(c); (c)-[ca]->(a)\")\n",
        "triangles.show()\n"
      ],
      "metadata": {
        "colab": {
          "base_uri": "https://localhost:8080/"
        },
        "id": "hOJatjRrd2Ww",
        "outputId": "10f5ad9b-6fda-4488-81db-3dad042e9f47"
      },
      "execution_count": 12,
      "outputs": [
        {
          "output_type": "stream",
          "name": "stdout",
          "text": [
            "+--------------------+--------------------+--------------------+--------------------+--------------------+--------------------+\n",
            "|                   a|                  ab|                   b|                  bc|                   c|                  ca|\n",
            "+--------------------+--------------------+--------------------+--------------------+--------------------+--------------------+\n",
            "|{60, Embarcadero ...|{913450, 255, 8/3...|{74, Steuart at M...|{913315, 518, 8/3...|{61, 2nd at Towns...|{913383, 1435, 8/...|\n",
            "|{60, Embarcadero ...|{913443, 691, 8/3...|{77, Market at Sa...|{913403, 497, 8/3...|{61, 2nd at Towns...|{913383, 1435, 8/...|\n",
            "|{69, San Francisc...|{913434, 283, 8/3...|{65, Townsend at ...|{913371, 663, 8/3...|{49, Spear at Fol...|{913432, 703, 8/3...|\n",
            "|{49, Spear at Fol...|{913432, 703, 8/3...|{69, San Francisc...|{913308, 185, 8/3...|{61, 2nd at Towns...|{913297, 501, 8/3...|\n",
            "|{49, Spear at Fol...|{913432, 703, 8/3...|{69, San Francisc...|{913316, 300, 8/3...|{65, Townsend at ...|{913371, 663, 8/3...|\n",
            "|{49, Spear at Fol...|{913432, 703, 8/3...|{69, San Francisc...|{913324, 375, 8/3...|{64, 2nd at South...|{913303, 296, 8/3...|\n",
            "|{49, Spear at Fol...|{913432, 703, 8/3...|{69, San Francisc...|{913337, 384, 8/3...|{64, 2nd at South...|{913303, 296, 8/3...|\n",
            "|{49, Spear at Fol...|{913432, 703, 8/3...|{69, San Francisc...|{913361, 236, 8/3...|{65, Townsend at ...|{913371, 663, 8/3...|\n",
            "|{49, Spear at Fol...|{913432, 703, 8/3...|{69, San Francisc...|{913404, 273, 8/3...|{65, Townsend at ...|{913371, 663, 8/3...|\n",
            "|{49, Spear at Fol...|{913432, 703, 8/3...|{69, San Francisc...|{913434, 283, 8/3...|{65, Townsend at ...|{913371, 663, 8/3...|\n",
            "|{69, San Francisc...|{913404, 273, 8/3...|{65, Townsend at ...|{913371, 663, 8/3...|{49, Spear at Fol...|{913432, 703, 8/3...|\n",
            "|{77, Market at Sa...|{913403, 497, 8/3...|{61, 2nd at Towns...|{913309, 344, 8/3...|{63, Howard at 2n...|{913311, 144, 8/3...|\n",
            "|{77, Market at Sa...|{913403, 497, 8/3...|{61, 2nd at Towns...|{913383, 1435, 8/...|{60, Embarcadero ...|{913443, 691, 8/3...|\n",
            "|{61, 2nd at Towns...|{913383, 1435, 8/...|{60, Embarcadero ...|{913443, 691, 8/3...|{77, Market at Sa...|{913403, 497, 8/3...|\n",
            "|{61, 2nd at Towns...|{913383, 1435, 8/...|{60, Embarcadero ...|{913450, 255, 8/3...|{74, Steuart at M...|{913315, 518, 8/3...|\n",
            "|{65, Townsend at ...|{913371, 663, 8/3...|{49, Spear at Fol...|{913432, 703, 8/3...|{69, San Francisc...|{913316, 300, 8/3...|\n",
            "|{65, Townsend at ...|{913371, 663, 8/3...|{49, Spear at Fol...|{913432, 703, 8/3...|{69, San Francisc...|{913361, 236, 8/3...|\n",
            "|{65, Townsend at ...|{913371, 663, 8/3...|{49, Spear at Fol...|{913432, 703, 8/3...|{69, San Francisc...|{913404, 273, 8/3...|\n",
            "|{65, Townsend at ...|{913371, 663, 8/3...|{49, Spear at Fol...|{913432, 703, 8/3...|{69, San Francisc...|{913434, 283, 8/3...|\n",
            "|{63, Howard at 2n...|{913363, 489, 8/3...|{69, San Francisc...|{913308, 185, 8/3...|{61, 2nd at Towns...|{913309, 344, 8/3...|\n",
            "+--------------------+--------------------+--------------------+--------------------+--------------------+--------------------+\n",
            "only showing top 20 rows\n",
            "\n"
          ]
        }
      ]
    },
    {
      "cell_type": "markdown",
      "source": [
        "12. Chemins de trois sommets passant par 'Townsend at 7th'"
      ],
      "metadata": {
        "id": "SpQoB16yd9Ef"
      }
    },
    {
      "cell_type": "code",
      "source": [
        "# Rechercher des chemins de trois sommets commençant par 'Townsend at 7th'\n",
        "paths_through_townsend = graph.find(\"(a)-[ab]->(b); (b)-[bc]->(c)\") \\\n",
        "    .filter(\"a.id = 'Townsend at 7th'\")\n",
        "\n",
        "# Afficher les résultats avec les identifiants de chaque sommet\n",
        "paths_through_townsend.select(\"a.id\", \"b.id\", \"c.id\").show()\n"
      ],
      "metadata": {
        "colab": {
          "base_uri": "https://localhost:8080/"
        },
        "id": "AZRAiNxDd_R1",
        "outputId": "50b47877-05d6-4193-ee1d-6c87c958c25f"
      },
      "execution_count": 22,
      "outputs": [
        {
          "output_type": "stream",
          "name": "stdout",
          "text": [
            "+---------------+--------------------+--------------------+\n",
            "|             id|                  id|                  id|\n",
            "+---------------+--------------------+--------------------+\n",
            "|Townsend at 7th|Harry Bridges Pla...|     2nd at Townsend|\n",
            "|Townsend at 7th|Harry Bridges Pla...|Embarcadero at Br...|\n",
            "|Townsend at 7th|Harry Bridges Pla...|San Francisco Cal...|\n",
            "|Townsend at 7th|     Spear at Folsom|     2nd at Townsend|\n",
            "|Townsend at 7th|     Spear at Folsom|    Davis at Jackson|\n",
            "|Townsend at 7th|     Spear at Folsom|     Townsend at 7th|\n",
            "|Townsend at 7th|     Spear at Folsom|     2nd at Townsend|\n",
            "|Townsend at 7th|     Spear at Folsom|San Francisco Cal...|\n",
            "+---------------+--------------------+--------------------+\n",
            "\n"
          ]
        }
      ]
    }
  ]
}