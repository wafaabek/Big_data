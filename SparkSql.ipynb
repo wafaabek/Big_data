{
  "nbformat": 4,
  "nbformat_minor": 0,
  "metadata": {
    "colab": {
      "provenance": [],
      "authorship_tag": "ABX9TyPWMVimG504admm3pfUnJf2",
      "include_colab_link": true
    },
    "kernelspec": {
      "name": "python3",
      "display_name": "Python 3"
    },
    "language_info": {
      "name": "python"
    }
  },
  "cells": [
    {
      "cell_type": "markdown",
      "metadata": {
        "id": "view-in-github",
        "colab_type": "text"
      },
      "source": [
        "<a href=\"https://colab.research.google.com/github/wafaabek/Big_data/blob/main/SparkSql.ipynb\" target=\"_parent\"><img src=\"https://colab.research.google.com/assets/colab-badge.svg\" alt=\"Open In Colab\"/></a>"
      ]
    },
    {
      "cell_type": "code",
      "execution_count": null,
      "metadata": {
        "colab": {
          "base_uri": "https://localhost:8080/"
        },
        "id": "miW7U69reBQO",
        "outputId": "a64dacbf-b86b-44db-9cb9-86fbee1606d1"
      },
      "outputs": [
        {
          "output_type": "stream",
          "name": "stdout",
          "text": [
            "Requirement already satisfied: pyspark in /usr/local/lib/python3.10/dist-packages (3.5.3)\n",
            "Requirement already satisfied: py4j==0.10.9.7 in /usr/local/lib/python3.10/dist-packages (from pyspark) (0.10.9.7)\n"
          ]
        }
      ],
      "source": [
        "!pip install pyspark\n"
      ]
    },
    {
      "cell_type": "code",
      "source": [
        "from pyspark import SparkConf, SparkContext, SQLContext\n",
        "from pyspark.sql.functions import *\n",
        "from pyspark.sql import Row\n",
        "\n"
      ],
      "metadata": {
        "id": "72lHudy5eHA8"
      },
      "execution_count": null,
      "outputs": []
    },
    {
      "cell_type": "markdown",
      "source": [
        "Télécharger le fichier :"
      ],
      "metadata": {
        "id": "Ymml5Infpo41"
      }
    },
    {
      "cell_type": "code",
      "source": [
        "!wget https://storage.googleapis.com/books/ngrams/books/googlebooks-eng-all-2gram-20120701-0.gz\n"
      ],
      "metadata": {
        "colab": {
          "base_uri": "https://localhost:8080/"
        },
        "id": "UjouO6vWhcoA",
        "outputId": "3d7787f9-cb7d-4832-f444-c582b8e83656"
      },
      "execution_count": null,
      "outputs": [
        {
          "output_type": "stream",
          "name": "stdout",
          "text": [
            "--2024-10-22 09:54:28--  https://storage.googleapis.com/books/ngrams/books/googlebooks-eng-all-2gram-20120701-0.gz\n",
            "Resolving storage.googleapis.com (storage.googleapis.com)... 172.253.117.207, 74.125.20.207, 108.177.98.207, ...\n",
            "Connecting to storage.googleapis.com (storage.googleapis.com)|172.253.117.207|:443... connected.\n",
            "HTTP request sent, awaiting response... 200 OK\n",
            "Length: 319142622 (304M) [binary/octet-stream]\n",
            "Saving to: ‘googlebooks-eng-all-2gram-20120701-0.gz.1’\n",
            "\n",
            "googlebooks-eng-all 100%[===================>] 304.36M   157MB/s    in 1.9s    \n",
            "\n",
            "2024-10-22 09:54:30 (157 MB/s) - ‘googlebooks-eng-all-2gram-20120701-0.gz.1’ saved [319142622/319142622]\n",
            "\n"
          ]
        }
      ]
    },
    {
      "cell_type": "code",
      "source": [
        "!gunzip googlebooks-eng-all-2gram-20120701-0.gz\n"
      ],
      "metadata": {
        "id": "ZzKwC_THpzDf"
      },
      "execution_count": null,
      "outputs": []
    },
    {
      "cell_type": "markdown",
      "source": [
        "Étape 3: Importer les bibliothèques et créer le DataFrame"
      ],
      "metadata": {
        "id": "brvsnlkWq7Cf"
      }
    },
    {
      "cell_type": "code",
      "source": [
        "from pyspark import SparkConf, SparkContext, SQLContext\n",
        "from pyspark.sql.functions import *\n",
        "from pyspark.sql import Row\n",
        "\n"
      ],
      "metadata": {
        "id": "GLwllajbv0VE"
      },
      "execution_count": null,
      "outputs": []
    },
    {
      "cell_type": "code",
      "source": [
        "\n",
        "\n",
        "# Initialisation de Spark\n",
        "conf = SparkConf().setAppName(\"Ngram Analysis\")\n",
        "sc = SparkContext.getOrCreate(conf=conf)\n",
        "sqlContext = SQLContext(sc)\n",
        "\n",
        "# Charger le fichier décompressé\n",
        "lines = sc.textFile(\"/content/ngram.csv\")\n",
        "\n",
        "# Diviser les lignes en colonnes : ngram, year, match_count, volume_count\n",
        "parts = lines.map(lambda line: line.split(\"\\t\"))\n",
        "ngrams = parts.map(lambda p: Row(ngram=p[0], year=int(p[1]), ngramcount=int(p[2]),pages=int(p[3]), books=int(p[4])))\n",
        "\n",
        "# Créer un DataFrame à partir des lignes\n",
        "schemaNGrams = sqlContext.createDataFrame(ngrams)\n",
        "\n",
        "# Afficher un aperçu du DataFrame\n",
        "schemaNGrams.show(5)\n",
        "\n"
      ],
      "metadata": {
        "colab": {
          "base_uri": "https://localhost:8080/"
        },
        "id": "n5Nzt9mDxkqz",
        "outputId": "d22584ba-7702-40c4-8f27-02caa97494a6"
      },
      "execution_count": null,
      "outputs": [
        {
          "output_type": "stream",
          "name": "stdout",
          "text": [
            "+--------+----+----------+-----+-----+\n",
            "|   ngram|year|ngramcount|pages|books|\n",
            "+--------+----+----------+-----+-----+\n",
            "|! $17.95|1985|         1|    1|    1|\n",
            "|! $17.95|1987|         1|    1|    1|\n",
            "|! $17.95|1990|         1|    1|    1|\n",
            "|! $17.95|1991|         1|    1|    1|\n",
            "|! $17.95|1992|         5|    5|    5|\n",
            "+--------+----+----------+-----+-----+\n",
            "only showing top 5 rows\n",
            "\n"
          ]
        }
      ]
    },
    {
      "cell_type": "markdown",
      "source": [
        "Étape 4: Enregistrer le DataFrame comme table temporaire"
      ],
      "metadata": {
        "id": "yYsP4wWLN1tC"
      }
    },
    {
      "cell_type": "markdown",
      "source": [],
      "metadata": {
        "id": "kl2_pgfGPNPd"
      }
    },
    {
      "cell_type": "code",
      "source": [
        "schemaNGrams.createOrReplaceTempView(\"ngrams\")\n"
      ],
      "metadata": {
        "id": "AqjfLy8TN3YZ"
      },
      "execution_count": null,
      "outputs": []
    },
    {
      "cell_type": "markdown",
      "source": [
        "**1-Retourner tous les bi-grammes dont le nombre Count est supérieur à cinq.**"
      ],
      "metadata": {
        "id": "2vr5Ejp5PqGC"
      }
    },
    {
      "cell_type": "markdown",
      "source": [
        "Étape 5: Répondre aux questions du TP (Avec SQL :)\n",
        "\n",
        "\n",
        "\n"
      ],
      "metadata": {
        "id": "23s-iHcEOBuV"
      }
    },
    {
      "cell_type": "code",
      "source": [
        "result = sqlContext.sql(\"SELECT ngram FROM ngrams WHERE ngramcount > 5\")\n",
        "result.show()\n"
      ],
      "metadata": {
        "colab": {
          "base_uri": "https://localhost:8080/"
        },
        "id": "4_oe2ix3ODW7",
        "outputId": "139f8846-497e-45f8-b2bc-42b9fd7f4d35"
      },
      "execution_count": null,
      "outputs": [
        {
          "output_type": "stream",
          "name": "stdout",
          "text": [
            "+--------+\n",
            "|   ngram|\n",
            "+--------+\n",
            "|! $17.95|\n",
            "|! $17.95|\n",
            "|! $17.95|\n",
            "|! $17.95|\n",
            "|! $17.95|\n",
            "|    ! 09|\n",
            "|    ! 09|\n",
            "|    ! 09|\n",
            "|    ! 09|\n",
            "|    ! 09|\n",
            "|    ! 09|\n",
            "|    ! 09|\n",
            "|    ! 09|\n",
            "+--------+\n",
            "\n"
          ]
        }
      ]
    },
    {
      "cell_type": "markdown",
      "source": [
        "Avec l’API SparkSQL :\n",
        "\n"
      ],
      "metadata": {
        "id": "pAPvGAYuPAP_"
      }
    },
    {
      "cell_type": "code",
      "source": [
        "\n",
        "result = schemaNGrams.filter(schemaNGrams['ngramcount'] > 5).select('ngram')\n",
        "result.show()"
      ],
      "metadata": {
        "colab": {
          "base_uri": "https://localhost:8080/"
        },
        "id": "u8rKmG0hO0FN",
        "outputId": "e1345113-e7e6-483f-9740-e5e8508895af"
      },
      "execution_count": null,
      "outputs": [
        {
          "output_type": "stream",
          "name": "stdout",
          "text": [
            "+--------+\n",
            "|   ngram|\n",
            "+--------+\n",
            "|! $17.95|\n",
            "|! $17.95|\n",
            "|! $17.95|\n",
            "|! $17.95|\n",
            "|! $17.95|\n",
            "|    ! 09|\n",
            "|    ! 09|\n",
            "|    ! 09|\n",
            "|    ! 09|\n",
            "|    ! 09|\n",
            "|    ! 09|\n",
            "|    ! 09|\n",
            "|    ! 09|\n",
            "+--------+\n",
            "\n"
          ]
        }
      ]
    },
    {
      "cell_type": "markdown",
      "source": [
        "**Retourner le nombre total de bi-grammes dans chaque année.**"
      ],
      "metadata": {
        "id": "TDGE0uvNPwPF"
      }
    },
    {
      "cell_type": "markdown",
      "source": [
        "le langage SQL:"
      ],
      "metadata": {
        "id": "mPPbx9p9P3aQ"
      }
    },
    {
      "cell_type": "code",
      "source": [
        "result = sqlContext.sql(\"SELECT year, COUNT(*) AS cnt FROM ngrams GROUP BY year\")\n",
        "result.show()"
      ],
      "metadata": {
        "colab": {
          "base_uri": "https://localhost:8080/"
        },
        "id": "NbpteUhUP9Mj",
        "outputId": "675a2ca4-27a2-4a6d-c33c-31f39339e0fb"
      },
      "execution_count": null,
      "outputs": [
        {
          "output_type": "stream",
          "name": "stdout",
          "text": [
            "+----+---+\n",
            "|year|cnt|\n",
            "+----+---+\n",
            "|1806|  1|\n",
            "|1840|  1|\n",
            "|1882|  1|\n",
            "|2007|  2|\n",
            "|1887|  1|\n",
            "|1991|  2|\n",
            "|1858|  1|\n",
            "|1833|  1|\n",
            "|1831|  1|\n",
            "|1987|  2|\n",
            "|1999|  2|\n",
            "|1997|  2|\n",
            "|1884|  1|\n",
            "|1845|  1|\n",
            "|1877|  1|\n",
            "|1829|  1|\n",
            "|1867|  1|\n",
            "|2006|  2|\n",
            "|1876|  1|\n",
            "|1879|  1|\n",
            "+----+---+\n",
            "only showing top 20 rows\n",
            "\n"
          ]
        }
      ]
    },
    {
      "cell_type": "markdown",
      "source": [
        "Api spark"
      ],
      "metadata": {
        "id": "JBIpw-ufQQFL"
      }
    },
    {
      "cell_type": "code",
      "source": [
        "result = schemaNGrams.groupBy(\"year\").count()\n",
        "result.show()\n"
      ],
      "metadata": {
        "colab": {
          "base_uri": "https://localhost:8080/"
        },
        "id": "4G9WEMrmQUt6",
        "outputId": "3b07f8f3-3224-490f-ffcf-11c2e7c7e391"
      },
      "execution_count": null,
      "outputs": [
        {
          "output_type": "stream",
          "name": "stdout",
          "text": [
            "+----+-----+\n",
            "|year|count|\n",
            "+----+-----+\n",
            "|1806|    1|\n",
            "|1840|    1|\n",
            "|1882|    1|\n",
            "|2007|    2|\n",
            "|1887|    1|\n",
            "|1991|    2|\n",
            "|1858|    1|\n",
            "|1833|    1|\n",
            "|1831|    1|\n",
            "|1987|    2|\n",
            "|1999|    2|\n",
            "|1997|    2|\n",
            "|1884|    1|\n",
            "|1845|    1|\n",
            "|1877|    1|\n",
            "|1829|    1|\n",
            "|1867|    1|\n",
            "|2006|    2|\n",
            "|1876|    1|\n",
            "|1879|    1|\n",
            "+----+-----+\n",
            "only showing top 20 rows\n",
            "\n"
          ]
        }
      ]
    },
    {
      "cell_type": "markdown",
      "source": [
        "Retourner les bi-grammes qui ont le plus grand nombre de count dans chaque\n",
        "année.\n"
      ],
      "metadata": {
        "id": "m1tP9BMqQZed"
      }
    },
    {
      "cell_type": "markdown",
      "source": [
        "SQL"
      ],
      "metadata": {
        "id": "oeIVUkCEQyEY"
      }
    },
    {
      "cell_type": "markdown",
      "source": [],
      "metadata": {
        "id": "miKac2FXQx59"
      }
    },
    {
      "cell_type": "code",
      "source": [
        "result = sqlContext.sql(\"SELECT ngram, year, MAX(ngramcount) AS maxCount FROM ngrams GROUP BY ngram, year\")\n",
        "result.show()\n"
      ],
      "metadata": {
        "colab": {
          "base_uri": "https://localhost:8080/"
        },
        "id": "0rRrPBywQtw1",
        "outputId": "3f2a0754-7fed-45f5-ff1e-f030dd93dbf0"
      },
      "execution_count": null,
      "outputs": [
        {
          "output_type": "stream",
          "name": "stdout",
          "text": [
            "+--------+----+--------+\n",
            "|   ngram|year|maxCount|\n",
            "+--------+----+--------+\n",
            "|    ! 09|1880|       2|\n",
            "|! $17.95|2008|       2|\n",
            "|    ! 09|1845|       1|\n",
            "|! $17.95|1995|       1|\n",
            "|! $17.95|2004|      14|\n",
            "|    ! 09|1780|       1|\n",
            "|    ! 09|1833|       1|\n",
            "|! $17.95|2007|       2|\n",
            "|    ! 09|1872|       1|\n",
            "|    ! 09|1861|       1|\n",
            "|    ! 09|1806|       1|\n",
            "|    ! 09|1882|       2|\n",
            "|! $17.95|2001|       5|\n",
            "|    ! 09|1881|       3|\n",
            "|    ! 09|1884|       5|\n",
            "|    ! 09|1823|       1|\n",
            "|    ! 09|1848|       1|\n",
            "|    ! 09|1887|       1|\n",
            "|    ! 09|1803|       1|\n",
            "|    ! 09|1877|       2|\n",
            "+--------+----+--------+\n",
            "only showing top 20 rows\n",
            "\n"
          ]
        }
      ]
    },
    {
      "cell_type": "code",
      "source": [
        "result = schemaNGrams.groupBy(\"ngram\", \"year\").max(\"ngramcount\")\n",
        "result.show()\n"
      ],
      "metadata": {
        "colab": {
          "base_uri": "https://localhost:8080/"
        },
        "id": "JE2R89IWRQ5x",
        "outputId": "9ba9a82c-5d71-4a7a-99b8-7977fafe6436"
      },
      "execution_count": null,
      "outputs": [
        {
          "output_type": "stream",
          "name": "stdout",
          "text": [
            "+--------+----+---------------+\n",
            "|   ngram|year|max(ngramcount)|\n",
            "+--------+----+---------------+\n",
            "|    ! 09|1880|              2|\n",
            "|! $17.95|2008|              2|\n",
            "|    ! 09|1845|              1|\n",
            "|! $17.95|1995|              1|\n",
            "|! $17.95|2004|             14|\n",
            "|    ! 09|1780|              1|\n",
            "|    ! 09|1833|              1|\n",
            "|! $17.95|2007|              2|\n",
            "|    ! 09|1872|              1|\n",
            "|    ! 09|1861|              1|\n",
            "|    ! 09|1806|              1|\n",
            "|    ! 09|1882|              2|\n",
            "|! $17.95|2001|              5|\n",
            "|    ! 09|1881|              3|\n",
            "|    ! 09|1884|              5|\n",
            "|    ! 09|1823|              1|\n",
            "|    ! 09|1848|              1|\n",
            "|    ! 09|1887|              1|\n",
            "|    ! 09|1803|              1|\n",
            "|    ! 09|1877|              2|\n",
            "+--------+----+---------------+\n",
            "only showing top 20 rows\n",
            "\n"
          ]
        }
      ]
    },
    {
      "cell_type": "markdown",
      "source": [
        "Retourner les bi-grammes contenant ! dans la première partie et 9 dans la **deuxième** **texte en gras**"
      ],
      "metadata": {
        "id": "tOESgVeQRYr8"
      }
    },
    {
      "cell_type": "markdown",
      "source": [
        "SQL"
      ],
      "metadata": {
        "id": "v7zlmGbUReg5"
      }
    },
    {
      "cell_type": "code",
      "source": [
        "sqlContext.sql(\"SELECT DISTINCT ngram FROM ngrams WHERE ngram LIKE '%!% %' AND ngram LIKE '% %9%'\").show()\n"
      ],
      "metadata": {
        "colab": {
          "base_uri": "https://localhost:8080/"
        },
        "id": "5jUPFY6bSDOM",
        "outputId": "933c0032-cad5-4417-f678-47c52e615a97"
      },
      "execution_count": null,
      "outputs": [
        {
          "output_type": "stream",
          "name": "stdout",
          "text": [
            "+--------+\n",
            "|   ngram|\n",
            "+--------+\n",
            "|    ! 09|\n",
            "|! $17.95|\n",
            "+--------+\n",
            "\n"
          ]
        }
      ]
    },
    {
      "cell_type": "code",
      "source": [
        "schemaNGrams.filter((col(\"ngram\").like(\"%!% %\")) & (col(\"ngram\").like(\"% %9%\"))).select(\"ngram\").distinct().show()\n"
      ],
      "metadata": {
        "colab": {
          "base_uri": "https://localhost:8080/"
        },
        "id": "BMrkRxROSusJ",
        "outputId": "52d17624-aa77-4527-c2ae-ed020b03f914"
      },
      "execution_count": null,
      "outputs": [
        {
          "output_type": "stream",
          "name": "stdout",
          "text": [
            "+--------+\n",
            "|   ngram|\n",
            "+--------+\n",
            "|    ! 09|\n",
            "|! $17.95|\n",
            "+--------+\n",
            "\n"
          ]
        }
      ]
    },
    {
      "cell_type": "markdown",
      "source": [
        "Retourner les bi-grammes apparus dans toutes les années présentes dans les données\n",
        "Avec SQL :"
      ],
      "metadata": {
        "id": "_oKDS95fTZJS"
      }
    },
    {
      "cell_type": "code",
      "source": [
        "sqlContext.sql(\"SELECT ngram FROM ngrams GROUP BY ngram HAVING COUNT(DISTINCT year) = (SELECT COUNT(DISTINCT year) FROM ngrams)\").show()\n"
      ],
      "metadata": {
        "colab": {
          "base_uri": "https://localhost:8080/"
        },
        "id": "nCxUG9eNTiJ-",
        "outputId": "3c3915d0-1319-4345-e4f3-2936eb364190"
      },
      "execution_count": null,
      "outputs": [
        {
          "output_type": "stream",
          "name": "stdout",
          "text": [
            "+-----+\n",
            "|ngram|\n",
            "+-----+\n",
            "| ! 09|\n",
            "+-----+\n",
            "\n"
          ]
        }
      ]
    },
    {
      "cell_type": "code",
      "source": [
        "distinct_years = schemaNGrams.select(\"year\").distinct().count()\n",
        "\n",
        "result = schemaNGrams.groupBy(\"ngram\").agg(countDistinct(\"year\").alias(\"distinct_years\")) \\\n",
        "    .filter(f\"distinct_years = {distinct_years}\") \\\n",
        "    .select(\"ngram\").show()\n"
      ],
      "metadata": {
        "colab": {
          "base_uri": "https://localhost:8080/"
        },
        "id": "S8H8F8PVTqvv",
        "outputId": "f73d8342-d5ca-44d0-f819-03e250c3b20e"
      },
      "execution_count": null,
      "outputs": [
        {
          "output_type": "stream",
          "name": "stdout",
          "text": [
            "+-----+\n",
            "|ngram|\n",
            "+-----+\n",
            "| ! 09|\n",
            "+-----+\n",
            "\n"
          ]
        }
      ]
    },
    {
      "cell_type": "code",
      "source": [],
      "metadata": {
        "id": "KEQ60O-iT0EV"
      },
      "execution_count": null,
      "outputs": []
    },
    {
      "cell_type": "markdown",
      "source": [
        "Retourner le nombre total de pages et de livres dans lesquels chaque bigramme apparaît pour chaque année disponible, trié par ordre alphabétique."
      ],
      "metadata": {
        "id": "lg7ZzN5mTwSX"
      }
    },
    {
      "cell_type": "code",
      "source": [
        "sqlContext.sql(\"SELECT year, ngram, SUM(ngramcount) AS TotalPages, SUM(books) AS TotalBooks FROM ngrams GROUP BY year, ngram ORDER BY ngram ASC\").show()\n"
      ],
      "metadata": {
        "colab": {
          "base_uri": "https://localhost:8080/"
        },
        "id": "ygeGgLGzT3f5",
        "outputId": "ad68d805-a232-4af9-9dbd-aad2291e369a"
      },
      "execution_count": null,
      "outputs": [
        {
          "output_type": "stream",
          "name": "stdout",
          "text": [
            "+----+--------+----------+----------+\n",
            "|year|   ngram|TotalPages|TotalBooks|\n",
            "+----+--------+----------+----------+\n",
            "|1998|! $17.95|         4|         3|\n",
            "|1992|! $17.95|         5|         5|\n",
            "|1995|! $17.95|         1|         1|\n",
            "|1997|! $17.95|         6|         5|\n",
            "|1993|! $17.95|         2|         2|\n",
            "|1987|! $17.95|         1|         1|\n",
            "|1985|! $17.95|         1|         1|\n",
            "|1991|! $17.95|         1|         1|\n",
            "|1990|! $17.95|         1|         1|\n",
            "|2007|! $17.95|         2|         2|\n",
            "|2004|! $17.95|        14|        14|\n",
            "|1996|! $17.95|         4|         2|\n",
            "|2005|! $17.95|        13|        13|\n",
            "|2001|! $17.95|         5|         4|\n",
            "|2003|! $17.95|         2|         2|\n",
            "|1999|! $17.95|        11|        10|\n",
            "|2006|! $17.95|         5|         5|\n",
            "|2008|! $17.95|         2|         2|\n",
            "|2000|! $17.95|        11|         9|\n",
            "|2002|! $17.95|         5|         5|\n",
            "+----+--------+----------+----------+\n",
            "only showing top 20 rows\n",
            "\n"
          ]
        }
      ]
    },
    {
      "cell_type": "code",
      "source": [
        "result = schemaNGrams.groupBy(\"year\", \"ngram\").agg(sum(\"ngramcount\").alias(\"TotalPages\"), sum(\"books\").alias(\"TotalBooks\")).orderBy(\"ngram\")\n",
        "result.show()\n"
      ],
      "metadata": {
        "colab": {
          "base_uri": "https://localhost:8080/"
        },
        "id": "KSGYaJuOUPet",
        "outputId": "2c6febff-c23d-4719-9b44-7c660e395ac6"
      },
      "execution_count": null,
      "outputs": [
        {
          "output_type": "stream",
          "name": "stdout",
          "text": [
            "+----+--------+----------+----------+\n",
            "|year|   ngram|TotalPages|TotalBooks|\n",
            "+----+--------+----------+----------+\n",
            "|1998|! $17.95|         4|         3|\n",
            "|1992|! $17.95|         5|         5|\n",
            "|1995|! $17.95|         1|         1|\n",
            "|1997|! $17.95|         6|         5|\n",
            "|1993|! $17.95|         2|         2|\n",
            "|1987|! $17.95|         1|         1|\n",
            "|1985|! $17.95|         1|         1|\n",
            "|1991|! $17.95|         1|         1|\n",
            "|1990|! $17.95|         1|         1|\n",
            "|2007|! $17.95|         2|         2|\n",
            "|2004|! $17.95|        14|        14|\n",
            "|1996|! $17.95|         4|         2|\n",
            "|2005|! $17.95|        13|        13|\n",
            "|2001|! $17.95|         5|         4|\n",
            "|2003|! $17.95|         2|         2|\n",
            "|1999|! $17.95|        11|        10|\n",
            "|2006|! $17.95|         5|         5|\n",
            "|2008|! $17.95|         2|         2|\n",
            "|2000|! $17.95|        11|         9|\n",
            "|2002|! $17.95|         5|         5|\n",
            "+----+--------+----------+----------+\n",
            "only showing top 20 rows\n",
            "\n"
          ]
        }
      ]
    },
    {
      "cell_type": "markdown",
      "source": [
        "Retourner le nombre total de bi-grammes différents dans chaque année, trié par ordre décroissant de l'année"
      ],
      "metadata": {
        "id": "QLFzm8vcUTXf"
      }
    },
    {
      "cell_type": "code",
      "source": [
        "sqlContext.sql(\"SELECT year, COUNT(DISTINCT ngram) AS distinct_bigrams FROM ngrams GROUP BY year ORDER BY year DESC\").show()\n"
      ],
      "metadata": {
        "colab": {
          "base_uri": "https://localhost:8080/"
        },
        "id": "P2KWfoK9UX0N",
        "outputId": "16c9044b-f087-4151-e358-ab7d5d0344fc"
      },
      "execution_count": null,
      "outputs": [
        {
          "output_type": "stream",
          "name": "stdout",
          "text": [
            "+----+----------------+\n",
            "|year|distinct_bigrams|\n",
            "+----+----------------+\n",
            "|2008|               2|\n",
            "|2007|               2|\n",
            "|2006|               2|\n",
            "|2005|               2|\n",
            "|2004|               2|\n",
            "|2003|               2|\n",
            "|2002|               2|\n",
            "|2001|               2|\n",
            "|2000|               2|\n",
            "|1999|               2|\n",
            "|1998|               2|\n",
            "|1997|               2|\n",
            "|1996|               2|\n",
            "|1995|               2|\n",
            "|1993|               2|\n",
            "|1992|               2|\n",
            "|1991|               2|\n",
            "|1990|               2|\n",
            "|1987|               2|\n",
            "|1985|               2|\n",
            "+----+----------------+\n",
            "only showing top 20 rows\n",
            "\n"
          ]
        }
      ]
    },
    {
      "cell_type": "code",
      "source": [
        "result = schemaNGrams.groupBy(\"year\").agg(countDistinct(\"ngram\")).orderBy(\"year\", ascending=False)\n",
        "result.show()\n"
      ],
      "metadata": {
        "colab": {
          "base_uri": "https://localhost:8080/"
        },
        "id": "IXclfUM0Uc5X",
        "outputId": "a198994d-2151-41be-9e17-a06a95136907"
      },
      "execution_count": null,
      "outputs": [
        {
          "output_type": "stream",
          "name": "stdout",
          "text": [
            "+----+---------------------+\n",
            "|year|count(DISTINCT ngram)|\n",
            "+----+---------------------+\n",
            "|2008|                    2|\n",
            "|2007|                    2|\n",
            "|2006|                    2|\n",
            "|2005|                    2|\n",
            "|2004|                    2|\n",
            "|2003|                    2|\n",
            "|2002|                    2|\n",
            "|2001|                    2|\n",
            "|2000|                    2|\n",
            "|1999|                    2|\n",
            "|1998|                    2|\n",
            "|1997|                    2|\n",
            "|1996|                    2|\n",
            "|1995|                    2|\n",
            "|1993|                    2|\n",
            "|1992|                    2|\n",
            "|1991|                    2|\n",
            "|1990|                    2|\n",
            "|1987|                    2|\n",
            "|1985|                    2|\n",
            "+----+---------------------+\n",
            "only showing top 20 rows\n",
            "\n"
          ]
        }
      ]
    },
    {
      "cell_type": "markdown",
      "source": [],
      "metadata": {
        "id": "KeSYelFTQdZS"
      }
    }
  ]
}